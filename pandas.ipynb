{
 "cells": [
  {
   "cell_type": "code",
   "execution_count": 1,
   "metadata": {},
   "outputs": [],
   "source": [
    "import pandas as pd"
   ]
  },
  {
   "cell_type": "code",
   "execution_count": 2,
   "metadata": {},
   "outputs": [],
   "source": [
    "import numpy as np\n"
   ]
  },
  {
   "cell_type": "code",
   "execution_count": 3,
   "metadata": {},
   "outputs": [
    {
     "name": "stdout",
     "output_type": "stream",
     "text": [
      "             timestamp  unit_id           unit_type empire_or_resistance  \\\n",
      "0  2024-05-20 16:30:50        1        stormtrooper           resistance   \n",
      "1  2024-05-20 16:30:49        2        stormtrooper               empire   \n",
      "2  2024-05-20 16:30:48        3               at-st           resistance   \n",
      "3  2024-05-20 16:30:47        4               at-st           resistance   \n",
      "4  2024-05-20 16:30:46        5  resistance_soldier           resistance   \n",
      "\n",
      "   location_x  location_y  destination_x  destination_y   homeworld  \n",
      "0           2           1             10              6      Mirial  \n",
      "1           9           9              7              4     Stewjon  \n",
      "2           2           3              9              2  Muunilinst  \n",
      "3           9          10              3              2    Toydaria  \n",
      "4           6           3              8              7       Cerea  \n"
     ]
    }
   ],
   "source": [
    "data = pd.read_csv('troop_movements.csv')\n",
    "print(data.head())"
   ]
  },
  {
   "cell_type": "code",
   "execution_count": 4,
   "metadata": {},
   "outputs": [
    {
     "name": "stdout",
     "output_type": "stream",
     "text": [
      "             timestamp  unit_id           unit_type empire_or_resistance  \\\n",
      "1  2024-05-20 16:30:49        2        stormtrooper               empire   \n",
      "5  2024-05-20 16:30:45        6             unknown               empire   \n",
      "6  2024-05-20 16:30:44        7               at-st               empire   \n",
      "7  2024-05-20 16:30:43        8              x-wing               empire   \n",
      "9  2024-05-20 16:30:41       10  resistance_soldier               empire   \n",
      "\n",
      "   location_x  location_y  destination_x  destination_y homeworld  \n",
      "1           9           9              7              4   Stewjon  \n",
      "5           8           1              9              3   Tholoth  \n",
      "6           7           5              7              2   Troiken  \n",
      "7           1           2              5              7  Champala  \n",
      "9           5           9              7              2  Tatooine  \n"
     ]
    }
   ],
   "source": [
    "empire_chars = data[data['empire_or_resistance'] == 'empire']\n",
    "print(empire_chars.head())"
   ]
  },
  {
   "cell_type": "code",
   "execution_count": 5,
   "metadata": {},
   "outputs": [
    {
     "name": "stdout",
     "output_type": "stream",
     "text": [
      "             timestamp  unit_id           unit_type empire_or_resistance  \\\n",
      "0  2024-05-20 16:30:50        1        stormtrooper           resistance   \n",
      "2  2024-05-20 16:30:48        3               at-st           resistance   \n",
      "3  2024-05-20 16:30:47        4               at-st           resistance   \n",
      "4  2024-05-20 16:30:46        5  resistance_soldier           resistance   \n",
      "8  2024-05-20 16:30:42        9             unknown           resistance   \n",
      "\n",
      "   location_x  location_y  destination_x  destination_y   homeworld  \n",
      "0           2           1             10              6      Mirial  \n",
      "2           2           3              9              2  Muunilinst  \n",
      "3           9          10              3              2    Toydaria  \n",
      "4           6           3              8              7       Cerea  \n",
      "8           6           6              5             10    Kashyyyk  \n"
     ]
    }
   ],
   "source": [
    "resistance_chars = data[data['empire_or_resistance'] == 'resistance']\n",
    "print(resistance_chars.head())"
   ]
  },
  {
   "cell_type": "code",
   "execution_count": 6,
   "metadata": {},
   "outputs": [
    {
     "name": "stdout",
     "output_type": "stream",
     "text": [
      "empire count: 531\n",
      "resistance count: 469\n"
     ]
    }
   ],
   "source": [
    "empire_count = np.sum(data['empire_or_resistance'] == 'empire')\n",
    "resistance_count = np.sum(data['empire_or_resistance'] == 'resistance')\n",
    "print(\"empire count:\", empire_count)\n",
    "print(\"resistance count:\", resistance_count)"
   ]
  },
  {
   "cell_type": "code",
   "execution_count": null,
   "metadata": {},
   "outputs": [],
   "source": []
  }
 ],
 "metadata": {
  "kernelspec": {
   "display_name": "Python 3",
   "language": "python",
   "name": "python3"
  },
  "language_info": {
   "codemirror_mode": {
    "name": "ipython",
    "version": 3
   },
   "file_extension": ".py",
   "mimetype": "text/x-python",
   "name": "python",
   "nbconvert_exporter": "python",
   "pygments_lexer": "ipython3",
   "version": "3.12.3"
  }
 },
 "nbformat": 4,
 "nbformat_minor": 2
}
